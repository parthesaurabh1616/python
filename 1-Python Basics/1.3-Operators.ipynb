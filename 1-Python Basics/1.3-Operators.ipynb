{
 "cells": [
  {
   "cell_type": "markdown",
   "metadata": {},
   "source": [
    "## Operators\n",
    "1] Artihmetic Operators :-\n",
    "\n",
    "    - Addition\n",
    "    - Subtraction\n",
    "    - Multiplication\n",
    "    - Division\n",
    "    - Floor Division\n",
    "    - Modulus\n",
    "    - Exponentiation\n",
    "\n",
    "2] Comparison Operators :-\n",
    "\n",
    "    - Equal to (=)\n",
    "    - Not equal to (!=)\n",
    "    - Greater than (>)\n",
    "    - Less than (<)\n",
    "    - Greater than or equal to (>=)\n",
    "    - Less than or equal to (<=)\n",
    "    - In-membership (in)\n",
    "    - Not in-membership (not in)\n",
    "    - Identity (is)\n",
    "    - Not identity (is not)\n",
    "\n",
    "3] Logical Operators :-\n",
    "    \n",
    "    - And (and)\n",
    "    - Or (or)\n",
    "    - Not (not)\n",
    "    - True\n",
    "    - False\n",
    "    - None\n",
    "    - True and True = True \n",
    "    - True and False = False\n",
    "    - False and False = False"
   ]
  },
  {
   "cell_type": "code",
   "execution_count": 2,
   "metadata": {},
   "outputs": [
    {
     "name": "stdout",
     "output_type": "stream",
     "text": [
      "15\n",
      "5\n",
      "50\n",
      "2.0\n",
      "2\n",
      "0\n",
      "100000\n"
     ]
    }
   ],
   "source": [
    "# Arithmetic operations\n",
    "\n",
    "a = 10\n",
    "b = 5\n",
    "add_result = a + b            # Addition\n",
    "sub_result = a - b            # Subtraction\n",
    "mult_result = a * b           # Multiplication\n",
    "div_result = a / b            # Divide by\n",
    "floor_div_result = a // b     # Floor division\n",
    "modulus_result = a%b          # Modulus\n",
    "exponent_result = a**b        # Exponentiation\n",
    "\n",
    "print(add_result)\n",
    "print(sub_result)\n",
    "print(mult_result)\n",
    "print(div_result)\n",
    "print(floor_div_result)\n",
    "print(modulus_result)\n",
    "print(exponent_result)"
   ]
  },
  {
   "cell_type": "code",
   "execution_count": 6,
   "metadata": {},
   "outputs": [
    {
     "name": "stdout",
     "output_type": "stream",
     "text": [
      "4.2\n",
      "floor 4\n"
     ]
    }
   ],
   "source": [
    "print(21/5)\n",
    "print('floor',21//5)"
   ]
  },
  {
   "cell_type": "markdown",
   "metadata": {},
   "source": [
    "## Comparison Operators"
   ]
  },
  {
   "cell_type": "code",
   "execution_count": null,
   "metadata": {},
   "outputs": [
    {
     "data": {
      "text/plain": [
       "True"
      ]
     },
     "execution_count": 8,
     "metadata": {},
     "output_type": "execute_result"
    }
   ],
   "source": [
    "# Comparison Operators\n",
    "\n",
    "# == Equal to Operators\n",
    "\n",
    "a = 10\n",
    "b = 10\n",
    "a==b\n"
   ]
  },
  {
   "cell_type": "code",
   "execution_count": 9,
   "metadata": {},
   "outputs": [
    {
     "data": {
      "text/plain": [
       "True"
      ]
     },
     "execution_count": 9,
     "metadata": {},
     "output_type": "execute_result"
    }
   ],
   "source": [
    "str1 = 'Saurabh'\n",
    "str2 = 'Saurabh'\n",
    "\n",
    "str1==str2"
   ]
  },
  {
   "cell_type": "code",
   "execution_count": 10,
   "metadata": {},
   "outputs": [
    {
     "data": {
      "text/plain": [
       "False"
      ]
     },
     "execution_count": 10,
     "metadata": {},
     "output_type": "execute_result"
    }
   ],
   "source": [
    "# Not Equal to operator (!=)\n",
    "\n",
    "str1!=str2"
   ]
  },
  {
   "cell_type": "code",
   "execution_count": 11,
   "metadata": {},
   "outputs": [
    {
     "data": {
      "text/plain": [
       "True"
      ]
     },
     "execution_count": 11,
     "metadata": {},
     "output_type": "execute_result"
    }
   ],
   "source": [
    "str3 = 'Saurabh'\n",
    "str4 = 'saurabh'\n",
    "\n",
    "str3!=str4"
   ]
  },
  {
   "cell_type": "code",
   "execution_count": null,
   "metadata": {},
   "outputs": [
    {
     "data": {
      "text/plain": [
       "False"
      ]
     },
     "execution_count": 12,
     "metadata": {},
     "output_type": "execute_result"
    }
   ],
   "source": [
    "# Greater than operator (>)\n",
    "num1 = 45\n",
    "num2 = 55\n",
    "\n",
    "num1 > num2"
   ]
  },
  {
   "cell_type": "code",
   "execution_count": 14,
   "metadata": {},
   "outputs": [
    {
     "name": "stdout",
     "output_type": "stream",
     "text": [
      "True\n"
     ]
    }
   ],
   "source": [
    "# Less Than  (<)\n",
    "print(num1<num2) "
   ]
  },
  {
   "cell_type": "code",
   "execution_count": 16,
   "metadata": {},
   "outputs": [
    {
     "name": "stdout",
     "output_type": "stream",
     "text": [
      "True\n"
     ]
    }
   ],
   "source": [
    "# Greater than or equal to operator (>=)\n",
    "num1 = 45\n",
    "num2 = 45\n",
    "\n",
    "print(num1>=num2)"
   ]
  },
  {
   "cell_type": "markdown",
   "metadata": {},
   "source": [
    "## Logical Operators"
   ]
  },
  {
   "cell_type": "code",
   "execution_count": 18,
   "metadata": {},
   "outputs": [
    {
     "name": "stdout",
     "output_type": "stream",
     "text": [
      "True\n"
     ]
    }
   ],
   "source": [
    "# And, Not, OR operator\n",
    "\n",
    "X = True\n",
    "Y = True\n",
    "\n",
    "result = X and Y\n",
    "print(result)"
   ]
  },
  {
   "cell_type": "code",
   "execution_count": 20,
   "metadata": {},
   "outputs": [
    {
     "name": "stdout",
     "output_type": "stream",
     "text": [
      "False\n"
     ]
    }
   ],
   "source": [
    "\n",
    "X = True\n",
    "Y = False\n",
    "\n",
    "result = X and Y\n",
    "print(result)"
   ]
  },
  {
   "cell_type": "code",
   "execution_count": 21,
   "metadata": {},
   "outputs": [
    {
     "name": "stdout",
     "output_type": "stream",
     "text": [
      "False\n"
     ]
    }
   ],
   "source": [
    "# OR Operators\n",
    "\n",
    "X = False\n",
    "Y = False\n",
    "\n",
    "result = X or Y\n",
    "print(result)"
   ]
  },
  {
   "cell_type": "code",
   "execution_count": 22,
   "metadata": {},
   "outputs": [
    {
     "name": "stdout",
     "output_type": "stream",
     "text": [
      "True\n"
     ]
    }
   ],
   "source": [
    "X = False\n",
    "Y = True\n",
    "\n",
    "result = X or Y\n",
    "print(result)"
   ]
  },
  {
   "cell_type": "code",
   "execution_count": 25,
   "metadata": {},
   "outputs": [
    {
     "data": {
      "text/plain": [
       "False"
      ]
     },
     "execution_count": 25,
     "metadata": {},
     "output_type": "execute_result"
    }
   ],
   "source": [
    "# Not Operators\n",
    "X = True\n",
    "not X"
   ]
  },
  {
   "cell_type": "code",
   "execution_count": 26,
   "metadata": {},
   "outputs": [
    {
     "data": {
      "text/plain": [
       "True"
      ]
     },
     "execution_count": 26,
     "metadata": {},
     "output_type": "execute_result"
    }
   ],
   "source": [
    "X = False\n",
    "not X"
   ]
  },
  {
   "cell_type": "code",
   "execution_count": 27,
   "metadata": {},
   "outputs": [
    {
     "name": "stdout",
     "output_type": "stream",
     "text": [
      "Addition: 15\n",
      "Subtraction: 5\n",
      "Multiplication: 50\n",
      "Division: 2.0\n",
      "Floor Division: 2\n",
      "Modulus: 0\n",
      "Exponentiation: 100000\n"
     ]
    }
   ],
   "source": [
    "# Simple Calculator\n",
    "a = 10\n",
    "b = 5\n",
    "add_result = a + b            # Addition\n",
    "sub_result = a - b            # Subtraction\n",
    "mult_result = a * b           # Multiplication\n",
    "div_result = a / b            # Divide by\n",
    "floor_div_result = a // b     # Floor division\n",
    "modulus_result = a%b          # Modulus\n",
    "exponent_result = a**b        # Exponentiation\n",
    "\n",
    "print('Addition:',add_result)\n",
    "print('Subtraction:',sub_result)\n",
    "print('Multiplication:',mult_result)\n",
    "print('Division:',div_result)\n",
    "print('Floor Division:',floor_div_result)\n",
    "print('Modulus:',modulus_result)\n",
    "print('Exponentiation:',exponent_result)"
   ]
  },
  {
   "cell_type": "code",
   "execution_count": null,
   "metadata": {},
   "outputs": [],
   "source": []
  }
 ],
 "metadata": {
  "kernelspec": {
   "display_name": "Python 3",
   "language": "python",
   "name": "python3"
  },
  "language_info": {
   "codemirror_mode": {
    "name": "ipython",
    "version": 3
   },
   "file_extension": ".py",
   "mimetype": "text/x-python",
   "name": "python",
   "nbconvert_exporter": "python",
   "pygments_lexer": "ipython3",
   "version": "3.12.9"
  }
 },
 "nbformat": 4,
 "nbformat_minor": 2
}
