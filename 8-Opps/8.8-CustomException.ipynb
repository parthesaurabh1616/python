{
 "cells": [
  {
   "cell_type": "markdown",
   "metadata": {},
   "source": [
    "# Custom Exception (Raise and Throw and Exception)"
   ]
  },
  {
   "cell_type": "code",
   "execution_count": 1,
   "metadata": {},
   "outputs": [],
   "source": [
    "class Error(Exception):\n",
    "    pass\n",
    "\n",
    "class dobException(Error):\n",
    "    pass"
   ]
  },
  {
   "cell_type": "code",
   "execution_count": 2,
   "metadata": {},
   "outputs": [
    {
     "name": "stdout",
     "output_type": "stream",
     "text": [
      "The age is valid so you can apply for the exam\n"
     ]
    }
   ],
   "source": [
    "year = int(input(\"Enter the dob\"))\n",
    "age = 2024-year\n",
    "\n",
    "try:\n",
    "    if age <= 25 and age >= 20:\n",
    "        print(\"The age is valid so you can apply for the exam\")\n",
    "\n",
    "    else:\n",
    "        raise dobException\n",
    "    \n",
    "except dobException:\n",
    "    print(\"Sorry, your age should br greater than 20 or less than 25\")"
   ]
  },
  {
   "cell_type": "code",
   "execution_count": 3,
   "metadata": {},
   "outputs": [
    {
     "name": "stdout",
     "output_type": "stream",
     "text": [
      "Sorry, your age should br greater than 20 or less than 25\n"
     ]
    }
   ],
   "source": [
    "year = int(input(\"Enter the dob\"))\n",
    "age = 2024-year\n",
    "\n",
    "try:\n",
    "    if age <= 25 and age >= 20:\n",
    "        print(\"The age is valid so you can apply for the exam\")\n",
    "\n",
    "    else:\n",
    "        raise dobException\n",
    "    \n",
    "except dobException:\n",
    "    print(\"Sorry, your age should br greater than 20 or less than 25\")"
   ]
  },
  {
   "cell_type": "code",
   "execution_count": null,
   "metadata": {},
   "outputs": [],
   "source": []
  }
 ],
 "metadata": {
  "kernelspec": {
   "display_name": "base",
   "language": "python",
   "name": "python3"
  },
  "language_info": {
   "codemirror_mode": {
    "name": "ipython",
    "version": 3
   },
   "file_extension": ".py",
   "mimetype": "text/x-python",
   "name": "python",
   "nbconvert_exporter": "python",
   "pygments_lexer": "ipython3",
   "version": "3.11.5"
  }
 },
 "nbformat": 4,
 "nbformat_minor": 2
}
