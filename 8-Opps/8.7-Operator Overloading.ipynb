{
 "cells": [
  {
   "cell_type": "markdown",
   "metadata": {},
   "source": [
    "# Operator Overloading"
   ]
  },
  {
   "cell_type": "markdown",
   "metadata": {},
   "source": [
    "- Operator overloading allows you to define the behavior of operators (+,-,*,etc.) for custom objects.\n",
    "- You achieve this by overriding specific magic methods in your class."
   ]
  },
  {
   "cell_type": "markdown",
   "metadata": {},
   "source": [
    "- __add__\n",
    "- __sub__\n",
    "- __mul__\n",
    "- __truediv__\n",
    "- __eq__\n",
    "- __it__"
   ]
  },
  {
   "cell_type": "code",
   "execution_count": 4,
   "metadata": {},
   "outputs": [
    {
     "data": {
      "text/plain": [
       "2"
      ]
     },
     "execution_count": 4,
     "metadata": {},
     "output_type": "execute_result"
    }
   ],
   "source": [
    "1+1"
   ]
  },
  {
   "cell_type": "code",
   "execution_count": 8,
   "metadata": {},
   "outputs": [
    {
     "name": "stdout",
     "output_type": "stream",
     "text": [
      "Vector(6, 8)\n",
      "Vector(-2, -2)\n",
      "Vector(6, 9)\n"
     ]
    }
   ],
   "source": [
    "# Mathematical Operations for vectors\n",
    "\n",
    "class Vector:\n",
    "    def __init__(self,x,y):\n",
    "        self.x=x\n",
    "        self.y=y\n",
    "\n",
    "    def __add__(self,other):\n",
    "        return Vector(self.x+other.x, self.y + other.y)\n",
    "    \n",
    "    def __sub__(self,other):\n",
    "        return Vector(self.x - other.x, self.y - other.y)\n",
    "    \n",
    "    def __mul__(self, other):\n",
    "        return Vector(self.x * other, self.y * other)\n",
    "    \n",
    "    def __eq__(self, other):\n",
    "        return self.x == other.x and self.y == other.y\n",
    "    \n",
    "    def __repr__(self):\n",
    "        return f\"Vector({self.x}, {self.y})\"\n",
    "    \n",
    "# Create Objects of the Vector Class.\n",
    "\n",
    "v1 = Vector(2,3)\n",
    "v2 = Vector(4,5)\n",
    "\n",
    "print(v1 + v2)\n",
    "print(v1 - v2)\n",
    "print(v1*3)"
   ]
  },
  {
   "cell_type": "code",
   "execution_count": 3,
   "metadata": {},
   "outputs": [
    {
     "name": "stdout",
     "output_type": "stream",
     "text": [
      "Addition : 3 + 7i\n",
      "Subtraction : 1 + -1i\n",
      "Multiplication : -10 + 7i\n",
      "Division : 0.8235294117647058 + -0.29411764705882354i\n",
      "Equal to : False\n"
     ]
    }
   ],
   "source": [
    "# Overloading Operators for Complex Numbers\n",
    "\n",
    "class ComplexNumber:\n",
    "    def __init__(self, real, imag):\n",
    "        self.real = real\n",
    "        self.imag = imag\n",
    "    \n",
    "    def __add__(self,other):\n",
    "        return ComplexNumber(self.real + other.real, self.imag + other.imag)\n",
    "    \n",
    "    def __sub__(self, other):\n",
    "        return ComplexNumber(self.real - other.real, self.imag - other.imag)\n",
    "    \n",
    "    def __mul__(self,other):\n",
    "        real_part = self.real * other.real - self.imag * other.imag\n",
    "        imag_part = self.real * other.imag + self.imag - other.imag\n",
    "        return ComplexNumber(real_part, imag_part)\n",
    "    \n",
    "    def __truediv__(self,other):\n",
    "        denominator = other.real**2 + other.imag**2\n",
    "        real_part = (self.real * other.real + self.imag * other.imag) / denominator\n",
    "        imag_part = (self.imag * other.real - self.real * other.imag) / denominator\n",
    "        return ComplexNumber(real_part,imag_part)\n",
    "    \n",
    "    def __eq__(self, other):\n",
    "        return self.real == other.real and self.imag == other.imag\n",
    "    \n",
    "    def __repr__(self):\n",
    "        return f\"{self.real} + {self.imag}i\"\n",
    "    \n",
    "c1 = ComplexNumber(2,3)\n",
    "c2 = ComplexNumber(1,4)\n",
    "\n",
    "# Use Overloaded Operators\n",
    "\n",
    "print(\"Addition :\",c1 + c2)\n",
    "print(\"Subtraction :\",c1 - c2)\n",
    "print(\"Multiplication :\",c1*c2)\n",
    "print(\"Division :\",c1 / c2)\n",
    "print(\"Equal to :\",c1 == c2)"
   ]
  },
  {
   "cell_type": "code",
   "execution_count": null,
   "metadata": {},
   "outputs": [],
   "source": []
  }
 ],
 "metadata": {
  "kernelspec": {
   "display_name": "base",
   "language": "python",
   "name": "python3"
  },
  "language_info": {
   "codemirror_mode": {
    "name": "ipython",
    "version": 3
   },
   "file_extension": ".py",
   "mimetype": "text/x-python",
   "name": "python",
   "nbconvert_exporter": "python",
   "pygments_lexer": "ipython3",
   "version": "3.11.5"
  }
 },
 "nbformat": 4,
 "nbformat_minor": 2
}
