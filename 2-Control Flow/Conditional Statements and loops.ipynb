{
 "cells": [
  {
   "cell_type": "markdown",
   "metadata": {},
   "source": [
    "## Conditional Statements (if, elif, else)"
   ]
  },
  {
   "cell_type": "code",
   "execution_count": 1,
   "metadata": {},
   "outputs": [
    {
     "name": "stdout",
     "output_type": "stream",
     "text": [
      "Yor are an adult\n"
     ]
    }
   ],
   "source": [
    "# if statement\n",
    "\n",
    "age = 23\n",
    "\n",
    "if age >= 20:\n",
    "    print(\"Yor are an adult\")\n",
    "else :\n",
    "    print(\"Yor are teenagers\")"
   ]
  },
  {
   "cell_type": "code",
   "execution_count": 3,
   "metadata": {},
   "outputs": [
    {
     "name": "stdout",
     "output_type": "stream",
     "text": [
      "Yor are minor\n"
     ]
    }
   ],
   "source": [
    "# else\n",
    "# The else statement executes a block of code if the condition in the if statement is False.\n",
    "\n",
    "age = 16\n",
    "\n",
    "if age >= 20:\n",
    "    print(\"Yor are eligible for voting\")\n",
    "else:\n",
    "    print(\"Yor are minor\")\n"
   ]
  },
  {
   "cell_type": "code",
   "execution_count": 11,
   "metadata": {},
   "outputs": [
    {
     "name": "stdout",
     "output_type": "stream",
     "text": [
      "Your are an adult\n"
     ]
    }
   ],
   "source": [
    "# elif\n",
    "# The elif statement allows you to check multiple conditions.\n",
    "# It stands for \"else if\"\n",
    "\n",
    "age = 23\n",
    "\n",
    "if age < 13:\n",
    "    print(\"you are child\")\n",
    "elif age < 18:\n",
    "    print(\"You are teenager\")\n",
    "else:\n",
    "    print(\"Your are an adult\")"
   ]
  },
  {
   "cell_type": "code",
   "execution_count": 10,
   "metadata": {},
   "outputs": [
    {
     "name": "stdout",
     "output_type": "stream",
     "text": [
      "You are teenager\n"
     ]
    }
   ],
   "source": [
    "age = 16\n",
    "\n",
    "if age < 13:\n",
    "    print(\"you are child\")\n",
    "elif age < 18:\n",
    "    print(\"You are teenager\")\n",
    "else:\n",
    "    print(\"Your are an adult\")"
   ]
  },
  {
   "cell_type": "code",
   "execution_count": 9,
   "metadata": {},
   "outputs": [
    {
     "name": "stdout",
     "output_type": "stream",
     "text": [
      "You are teenager\n"
     ]
    }
   ],
   "source": [
    "age = 17\n",
    "\n",
    "if age < 13:\n",
    "    print(\"you are child\")\n",
    "elif age < 18:\n",
    "    print(\"You are teenager\")\n",
    "else:\n",
    "    print(\"Your are an adult\")"
   ]
  },
  {
   "cell_type": "markdown",
   "metadata": {},
   "source": [
    "## Nested Loop"
   ]
  },
  {
   "cell_type": "code",
   "execution_count": 22,
   "metadata": {},
   "outputs": [
    {
     "name": "stdout",
     "output_type": "stream",
     "text": [
      "The number is positive\n",
      "The number is even\n"
     ]
    }
   ],
   "source": [
    "# Nested Conditional Statements\n",
    "# You can place one or more if, elif, or else statements inside another if, elif, or else statement to create nested conditional stetements.\n",
    "\n",
    "num = int(input(\"Enter the number\"))\n",
    "\n",
    "if num >= 0:\n",
    "    print(\"The number is positive\")\n",
    "    if num%2==0:\n",
    "        print(\"The number is even\")\n",
    "    else:\n",
    "        print(\"The number is odd\")\n",
    "else:\n",
    "    print(\"The number is zero or negative\")"
   ]
  },
  {
   "cell_type": "code",
   "execution_count": 26,
   "metadata": {},
   "outputs": [
    {
     "name": "stdout",
     "output_type": "stream",
     "text": [
      "2004 is a leap year\n"
     ]
    }
   ],
   "source": [
    "# Practical Examples\n",
    "\n",
    "# Determine if a year is linear using nested condition statement\n",
    "\n",
    "year = int(input(\"Enter the year\"))\n",
    "\n",
    "if year%4==0:\n",
    "    if year%100==0:\n",
    "        if year%400==0:\n",
    "            print(year, \"is a leap year\")\n",
    "        else:\n",
    "            print(year,'is not a leap year')\n",
    "    else:\n",
    "        print(year,\"is a leap year\")\n",
    "else:\n",
    "    print(year,\"is not a leap year\")\n"
   ]
  },
  {
   "cell_type": "code",
   "execution_count": 27,
   "metadata": {},
   "outputs": [
    {
     "name": "stdout",
     "output_type": "stream",
     "text": [
      "2025 is not a leap year\n"
     ]
    }
   ],
   "source": [
    "\n",
    "year = int(input(\"Enter the year\"))\n",
    "\n",
    "if year%4==0:\n",
    "    if year%100==0:\n",
    "        if year%400==0:\n",
    "            print(year, \"is a leap year\")\n",
    "        else:\n",
    "            print(year,'is not a leap year')\n",
    "    else:\n",
    "        print(year,\"is a leap year\")\n",
    "else:\n",
    "    print(year,\"is not a leap year\")"
   ]
  },
  {
   "cell_type": "markdown",
   "metadata": {},
   "source": [
    "## Assigment 1"
   ]
  },
  {
   "cell_type": "code",
   "execution_count": 28,
   "metadata": {},
   "outputs": [
    {
     "name": "stdout",
     "output_type": "stream",
     "text": [
      "Addition: 15.0\n",
      "Subtraction: 5.0\n",
      "Multiplication: 50.0\n",
      "Division: 2.0\n"
     ]
    }
   ],
   "source": [
    "# Simple calculator\n",
    "\n",
    "num1 = float(input(\"Enter number 1\"))\n",
    "num2 = float(input(\"Enter number 2\"))\n",
    "\n",
    "add_sum = num1 + num2\n",
    "sub_sum = num1 - num2\n",
    "mult_sum = num1 * num2\n",
    "div_sum = num1 / num2\n",
    "\n",
    "print(\"Addition:\", add_sum)\n",
    "print(\"Subtraction:\", sub_sum)\n",
    "print(\"Multiplication:\", mult_sum)\n",
    "print(\"Division:\",div_sum)"
   ]
  },
  {
   "cell_type": "code",
   "execution_count": 29,
   "metadata": {},
   "outputs": [
    {
     "name": "stdout",
     "output_type": "stream",
     "text": [
      "Addition: 20.0\n"
     ]
    }
   ],
   "source": [
    "# using if , elif , else\n",
    "\n",
    "num1 = float(input(\"Enter number 1\"))\n",
    "num2 = float(input(\"Enter number 2\"))\n",
    "operations = input(\"Enter operation ('+','-','*','/')\")\n",
    "\n",
    "if operations == '+':\n",
    "    result = num1 + num2\n",
    "    print(\"Addition:\",result)\n",
    "\n",
    "elif operations == '-':\n",
    "    result = num1 - num2\n",
    "    print(\"Subtraction:\",result)\n",
    "\n",
    "elif operations == '*':\n",
    "    result = num1 * num2\n",
    "    print(\"Multiplication:\", result)\n",
    "\n",
    "elif operations == '/':\n",
    "    result = num1 / num2\n",
    "    print(\"Division:\",result)\n",
    "\n",
    "else:\n",
    "    print(\"Enter valid Operation\")"
   ]
  },
  {
   "cell_type": "code",
   "execution_count": 31,
   "metadata": {},
   "outputs": [
    {
     "name": "stdout",
     "output_type": "stream",
     "text": [
      "Subtraction: 5.0\n"
     ]
    }
   ],
   "source": [
    "num1 = float(input(\"Enter number 1\"))\n",
    "num2 = float(input(\"Enter number 2\"))\n",
    "operations = input(\"Enter operation ('+','-','*','/')\")\n",
    "\n",
    "if operations == '+':\n",
    "    result = num1 + num2\n",
    "    print(\"Addition:\",result)\n",
    "\n",
    "elif operations == '-':\n",
    "    result = num1 - num2\n",
    "    print(\"Subtraction:\",result)\n",
    "\n",
    "elif operations == '*':\n",
    "    result = num1 * num2\n",
    "    print(\"Multiplication:\", result)\n",
    "\n",
    "elif operations == '/':\n",
    "    result = num1 / num2\n",
    "    print(\"Division:\",result)\n",
    "\n",
    "else:\n",
    "    print(\"Enter valid Operation\")"
   ]
  },
  {
   "cell_type": "code",
   "execution_count": 32,
   "metadata": {},
   "outputs": [
    {
     "name": "stdout",
     "output_type": "stream",
     "text": [
      "Multiplication: 50.0\n"
     ]
    }
   ],
   "source": [
    "num1 = float(input(\"Enter number 1\"))\n",
    "num2 = float(input(\"Enter number 2\"))\n",
    "operations = input(\"Enter operation ('+','-','*','/')\")\n",
    "\n",
    "if operations == '+':\n",
    "    result = num1 + num2\n",
    "    print(\"Addition:\",result)\n",
    "\n",
    "elif operations == '-':\n",
    "    result = num1 - num2\n",
    "    print(\"Subtraction:\",result)\n",
    "\n",
    "elif operations == '*':\n",
    "    result = num1 * num2\n",
    "    print(\"Multiplication:\", result)\n",
    "\n",
    "elif operations == '/':\n",
    "    result = num1 / num2\n",
    "    print(\"Division:\",result)\n",
    "\n",
    "else:\n",
    "    print(\"Enter valid Operation\")"
   ]
  },
  {
   "cell_type": "code",
   "execution_count": 33,
   "metadata": {},
   "outputs": [
    {
     "name": "stdout",
     "output_type": "stream",
     "text": [
      "Division: 2.0\n"
     ]
    }
   ],
   "source": [
    "num1 = float(input(\"Enter number 1\"))\n",
    "num2 = float(input(\"Enter number 2\"))\n",
    "operations = input(\"Enter operation ('+','-','*','/')\")\n",
    "\n",
    "if operations == '+':\n",
    "    result = num1 + num2\n",
    "    print(\"Addition:\",result)\n",
    "\n",
    "elif operations == '-':\n",
    "    result = num1 - num2\n",
    "    print(\"Subtraction:\",result)\n",
    "\n",
    "elif operations == '*':\n",
    "    result = num1 * num2\n",
    "    print(\"Multiplication:\", result)\n",
    "\n",
    "elif operations == '/':\n",
    "    result = num1 / num2\n",
    "    print(\"Division:\",result)\n",
    "\n",
    "else:\n",
    "    print(\"Enter valid Operation\")"
   ]
  },
  {
   "cell_type": "code",
   "execution_count": 34,
   "metadata": {},
   "outputs": [
    {
     "name": "stdout",
     "output_type": "stream",
     "text": [
      "Subtraction: 10.0\n"
     ]
    }
   ],
   "source": [
    "num1 = float(input(\"Enter number 1\"))\n",
    "num2 = float(input(\"Enter number 2\"))\n",
    "operations = input(\"Enter operation ('+','-','*','/')\")\n",
    "\n",
    "if operations == '+':\n",
    "    result = num1 + num2\n",
    "    print(\"Addition:\",result)\n",
    "\n",
    "elif operations == '-':\n",
    "    result = num1 - num2\n",
    "    print(\"Subtraction:\",result)\n",
    "\n",
    "elif operations == '*':\n",
    "    result = num1 * num2\n",
    "    print(\"Multiplication:\", result)\n",
    "\n",
    "elif operations == '/':\n",
    "    result = num1 / num2\n",
    "    print(\"Division:\",result)\n",
    "\n",
    "else:\n",
    "    print(\"Enter valid Operation\")"
   ]
  },
  {
   "cell_type": "markdown",
   "metadata": {},
   "source": [
    "## Assigment 2"
   ]
  },
  {
   "cell_type": "code",
   "execution_count": 36,
   "metadata": {},
   "outputs": [
    {
     "name": "stdout",
     "output_type": "stream",
     "text": [
      "You are a student your ticket price is $:100\n"
     ]
    }
   ],
   "source": [
    "# Determine the ticket price based on age and whether the person is a student.\n",
    "\n",
    "age = int(input(\"Enter Your Age:\"))\n",
    "\n",
    "student = input(\"Enter you are studetn (Yes/No):\")\n",
    "\n",
    "if age >= 18:\n",
    "    print(\"You are a student your ticket price is $:100\")\n",
    "elif age <= 18:\n",
    "    print(\"You are not studetn your ticket price is $:50\")\n",
    "\n",
    "elif age > 25:\n",
    "    (print(\"Your are not student your ticket price is $:200\"))\n",
    "\n",
    "else :\n",
    "    print(\"Invalid age\")"
   ]
  },
  {
   "cell_type": "code",
   "execution_count": 39,
   "metadata": {},
   "outputs": [
    {
     "name": "stdout",
     "output_type": "stream",
     "text": [
      "Ticket Price: $30\n"
     ]
    }
   ],
   "source": [
    "\n",
    "age = int(input(\"Enter Your Age:\"))\n",
    "\n",
    "student = input(\"Enter you are studetn (yes/no):\").lower()\n",
    "\n",
    "# Determine ticket price\n",
    "\n",
    "if age < 5:\n",
    "    price = 'Free'\n",
    "elif age <= 12:\n",
    "    price = '$10' \n",
    "elif age <= 17:\n",
    "    if student == 'yes':\n",
    "        price = '$12'\n",
    "    else:\n",
    "        price = '$15'\n",
    "elif age <= 20:\n",
    "    if student == 'yes':\n",
    "        price = '$20'\n",
    "    else:\n",
    "        price = '$25'\n",
    "else:\n",
    "    price = '$30'\n",
    "\n",
    "print(\"Ticket Price:\",price)"
   ]
  },
  {
   "cell_type": "code",
   "execution_count": null,
   "metadata": {},
   "outputs": [],
   "source": []
  }
 ],
 "metadata": {
  "kernelspec": {
   "display_name": "Python 3",
   "language": "python",
   "name": "python3"
  },
  "language_info": {
   "codemirror_mode": {
    "name": "ipython",
    "version": 3
   },
   "file_extension": ".py",
   "mimetype": "text/x-python",
   "name": "python",
   "nbconvert_exporter": "python",
   "pygments_lexer": "ipython3",
   "version": "3.12.9"
  }
 },
 "nbformat": 4,
 "nbformat_minor": 2
}
