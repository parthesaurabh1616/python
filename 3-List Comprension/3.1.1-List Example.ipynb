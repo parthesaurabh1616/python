{
 "cells": [
  {
   "cell_type": "markdown",
   "metadata": {},
   "source": [
    "# Real World Example of Lists in Python\n",
    "\n",
    "- Lists are one of the most commonly used data structures in Python, thanks to their versatility and ease of use.\n",
    "- Here are several practical examples that illustrate theirs use in real-world scenarios."
   ]
  },
  {
   "cell_type": "markdown",
   "metadata": {},
   "source": [
    "# Example 1: Manage To do Lists\n",
    "\n",
    "- create a To Do List To keep track of tasks"
   ]
  },
  {
   "cell_type": "code",
   "execution_count": 4,
   "metadata": {},
   "outputs": [
    {
     "name": "stdout",
     "output_type": "stream",
     "text": [
      "Don't Forget to pay utility bills\n",
      "To Do List remaining\n",
      "-Buy Grocery\n",
      "-Pay Bills\n",
      "-Schedule Meeting\n",
      "-Go for a Run\n"
     ]
    }
   ],
   "source": [
    "to_do_list = [\"Buy Grocery\",\"Clean The House\",\"Pay Bills\"]\n",
    "\n",
    "# Adding to task\n",
    "to_do_list.append(\"Schedule Meeting\")\n",
    "to_do_list.append(\"Go for a Run\")\n",
    "\n",
    "# Removing a completes task\n",
    "to_do_list.remove(\"Clean The House\")\n",
    "\n",
    "# Checking if a task is in the List\n",
    "if \"Pay Bills\" in to_do_list:\n",
    "    print(\"Don't Forget to pay utility bills\")\n",
    "\n",
    "print(\"To Do List remaining\")\n",
    "for task in to_do_list:\n",
    "    print(f\"-{task}\")"
   ]
  },
  {
   "cell_type": "markdown",
   "metadata": {},
   "source": [
    "# Example Organizing Student Grades\n",
    "\n",
    "- create a list to store and calculate average grades for students."
   ]
  },
  {
   "cell_type": "code",
   "execution_count": 5,
   "metadata": {},
   "outputs": [
    {
     "name": "stdout",
     "output_type": "stream",
     "text": [
      "Average Grade: 89.0\n",
      "Highest Grade: 100\n",
      "Lowest Grade: 73\n"
     ]
    }
   ],
   "source": [
    "# Organinzing Student Grades\n",
    "grades = [73,85,94,96,100]\n",
    "\n",
    "# Adding a new grade\n",
    "grades.append(86)\n",
    "\n",
    "# Calculating the average grades\n",
    "average_grades = sum(grades) / len(grades)\n",
    "print(f\"Average Grade: {average_grades}\")\n",
    "\n",
    "# Finding the highest and lowest grades\n",
    "highest_grades = max(grades)\n",
    "lowest_grades = min(grades)\n",
    "\n",
    "print(f\"Highest Grade: {highest_grades}\")\n",
    "print(f\"Lowest Grade: {lowest_grades}\")"
   ]
  },
  {
   "cell_type": "markdown",
   "metadata": {},
   "source": [
    "# Exmpale 3. Managing The Inventory\n",
    "- Use a list to manage the Inventory"
   ]
  },
  {
   "cell_type": "code",
   "execution_count": 7,
   "metadata": {},
   "outputs": [
    {
     "name": "stdout",
     "output_type": "stream",
     "text": [
      "Orange are in stock\n",
      "Inventory List:\n",
      "-Apple\n",
      "-Grape\n",
      "-Kiwi\n",
      "-Orange\n",
      "-Guava\n",
      "-Cherry\n",
      "-Orange\n",
      "-Strawberry\n"
     ]
    }
   ],
   "source": [
    "# Managing an Inventory\n",
    "inventory = ['Apple','Banana','Grape','Kiwi','Orange','Guava','Cherry','Orange']\n",
    "\n",
    "# Adding an item to Inventory\n",
    "inventory.append(\"Strawberry\")\n",
    "\n",
    "# Removing an item from Inventory Out Of Stock\n",
    "inventory.remove(\"Banana\")\n",
    "\n",
    "# Checking if an item is in Stock\n",
    "item = 'Orange'\n",
    "if item in inventory:\n",
    "    print(f\"{item} are in stock\")\n",
    "else:\n",
    "    print(f\"{item} is not in stock\")\n",
    "\n",
    "# Printing the inventory\n",
    "print(\"Inventory List:\")\n",
    "for item in inventory:\n",
    "    print(f\"-{item}\")"
   ]
  },
  {
   "cell_type": "markdown",
   "metadata": {},
   "source": [
    "Example 4: Collecting User Feed Back\n",
    "- Use a list to collect all the users feedback\n"
   ]
  },
  {
   "cell_type": "code",
   "execution_count": 8,
   "metadata": {},
   "outputs": [
    {
     "name": "stdout",
     "output_type": "stream",
     "text": [
      "Positive FeedBack Count: 3\n",
      "User FeedBack\n",
      "-Great Service\n",
      "-Lovely Dinner\n",
      "-Could Be Better\n",
      "-Not Satisfied\n",
      "-Highly Recommended\n",
      "-Bad Reputation\n"
     ]
    }
   ],
   "source": [
    "# Collecting User Feed Back\n",
    "feedback = [\"Great Service\",\"Lovely Dinner\",\"Could Be Better\",\"Not Satisfied\",\"Highly Recommended\"]\n",
    "\n",
    "# Adding a new feedback\n",
    "feedback.append(\"Bad Reputation\")\n",
    "\n",
    "# Counting Specific feedback\n",
    "positive_feedback = sum(1 for comment in feedback if 'great' in comment.lower() or \"highly\" in comment.lower() or \"lovely\" in comment.lower())\n",
    "print(f\"Positive FeedBack Count: {positive_feedback}\")\n",
    "\n",
    "# Print all the feedback\n",
    "print(\"User FeedBack\")\n",
    "for comment in feedback:\n",
    "    print(f\"-{comment}\")\n",
    "\n"
   ]
  },
  {
   "cell_type": "code",
   "execution_count": null,
   "metadata": {},
   "outputs": [],
   "source": []
  }
 ],
 "metadata": {
  "kernelspec": {
   "display_name": "Python 3",
   "language": "python",
   "name": "python3"
  },
  "language_info": {
   "codemirror_mode": {
    "name": "ipython",
    "version": 3
   },
   "file_extension": ".py",
   "mimetype": "text/x-python",
   "name": "python",
   "nbconvert_exporter": "python",
   "pygments_lexer": "ipython3",
   "version": "3.12.9"
  }
 },
 "nbformat": 4,
 "nbformat_minor": 2
}
